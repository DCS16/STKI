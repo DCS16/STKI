{
 "cells": [
  {
   "cell_type": "code",
   "execution_count": 1,
   "id": "43b2c432",
   "metadata": {},
   "outputs": [
    {
     "name": "stdout",
     "output_type": "stream",
     "text": [
      "WARNING:tensorflow:From c:\\Users\\dadiw\\AppData\\Local\\Programs\\Python\\Python311\\Lib\\site-packages\\keras\\src\\losses.py:2976: The name tf.losses.sparse_softmax_cross_entropy is deprecated. Please use tf.compat.v1.losses.sparse_softmax_cross_entropy instead.\n",
      "\n"
     ]
    },
    {
     "name": "stderr",
     "output_type": "stream",
     "text": [
      "C:\\Users\\dadiw\\AppData\\Local\\Temp\\ipykernel_23608\\3492019641.py:11: DeprecationWarning: `import kerastuner` is deprecated, please use `import keras_tuner`.\n",
      "  from kerastuner.tuners import RandomSearch\n"
     ]
    },
    {
     "data": {
      "text/html": [
       "<div>\n",
       "<style scoped>\n",
       "    .dataframe tbody tr th:only-of-type {\n",
       "        vertical-align: middle;\n",
       "    }\n",
       "\n",
       "    .dataframe tbody tr th {\n",
       "        vertical-align: top;\n",
       "    }\n",
       "\n",
       "    .dataframe thead th {\n",
       "        text-align: right;\n",
       "    }\n",
       "</style>\n",
       "<table border=\"1\" class=\"dataframe\">\n",
       "  <thead>\n",
       "    <tr style=\"text-align: right;\">\n",
       "      <th></th>\n",
       "      <th>category</th>\n",
       "      <th>title</th>\n",
       "      <th>body</th>\n",
       "    </tr>\n",
       "  </thead>\n",
       "  <tbody>\n",
       "    <tr>\n",
       "      <th>5824</th>\n",
       "      <td>SPORTS</td>\n",
       "      <td>Yankees' Derek Jeter Ceremony Spurs Memories O...</td>\n",
       "      <td>When Derek Jeter spoke to fans at Yankee Stadi...</td>\n",
       "    </tr>\n",
       "    <tr>\n",
       "      <th>3170</th>\n",
       "      <td>ENTERTAINMENT</td>\n",
       "      <td>'Trading Spaces' Brings High Stakes Back To Ho...</td>\n",
       "      <td>In the premiere episode of the revived âTrad...</td>\n",
       "    </tr>\n",
       "    <tr>\n",
       "      <th>2074</th>\n",
       "      <td>CRIME</td>\n",
       "      <td>Alleged Airplane Smoker Threatens To 'Kill Eve...</td>\n",
       "      <td>Video taken from a weekend flight shows a woma...</td>\n",
       "    </tr>\n",
       "    <tr>\n",
       "      <th>42</th>\n",
       "      <td>ARTS &amp; CULTURE</td>\n",
       "      <td>As Trump's Scandals Mount, Filmmakers Gravitat...</td>\n",
       "      <td>In the year since Donald Trumpâs election, A...</td>\n",
       "    </tr>\n",
       "    <tr>\n",
       "      <th>3089</th>\n",
       "      <td>ENTERTAINMENT</td>\n",
       "      <td>New 'Jurassic World: Fallen Kingdom' Trailer H...</td>\n",
       "      <td>The final âJurassic World: Fallen Kingdomâ...</td>\n",
       "    </tr>\n",
       "    <tr>\n",
       "      <th>2132</th>\n",
       "      <td>CRIME</td>\n",
       "      <td>Pastor Accused Of Impersonating Cop And Assaul...</td>\n",
       "      <td>Itâs a sin to bear false witness, but that d...</td>\n",
       "    </tr>\n",
       "    <tr>\n",
       "      <th>5350</th>\n",
       "      <td>SCIENCE</td>\n",
       "      <td>Your Birthday May Play A Role In Whether You S...</td>\n",
       "      <td>Scientists have long noticed a strange correla...</td>\n",
       "    </tr>\n",
       "    <tr>\n",
       "      <th>6074</th>\n",
       "      <td>TECH</td>\n",
       "      <td>Snapchat Files For IPO That Would Be Biggest I...</td>\n",
       "      <td>Snapchat has filed for an initial public offer...</td>\n",
       "    </tr>\n",
       "    <tr>\n",
       "      <th>6164</th>\n",
       "      <td>TECH</td>\n",
       "      <td>Polaroid Launches A New App, And It's Not What...</td>\n",
       "      <td>This isnât your grandpaâs Polaroid. The fa...</td>\n",
       "    </tr>\n",
       "    <tr>\n",
       "      <th>54</th>\n",
       "      <td>ARTS &amp; CULTURE</td>\n",
       "      <td>Chinese Museum Removes Photo Series Comparing ...</td>\n",
       "      <td>A series of photographs by Chinese artist Yu H...</td>\n",
       "    </tr>\n",
       "  </tbody>\n",
       "</table>\n",
       "</div>"
      ],
      "text/plain": [
       "            category                                              title  \\\n",
       "5824          SPORTS  Yankees' Derek Jeter Ceremony Spurs Memories O...   \n",
       "3170   ENTERTAINMENT  'Trading Spaces' Brings High Stakes Back To Ho...   \n",
       "2074           CRIME  Alleged Airplane Smoker Threatens To 'Kill Eve...   \n",
       "42    ARTS & CULTURE  As Trump's Scandals Mount, Filmmakers Gravitat...   \n",
       "3089   ENTERTAINMENT  New 'Jurassic World: Fallen Kingdom' Trailer H...   \n",
       "2132           CRIME  Pastor Accused Of Impersonating Cop And Assaul...   \n",
       "5350         SCIENCE  Your Birthday May Play A Role In Whether You S...   \n",
       "6074            TECH  Snapchat Files For IPO That Would Be Biggest I...   \n",
       "6164            TECH  Polaroid Launches A New App, And It's Not What...   \n",
       "54    ARTS & CULTURE  Chinese Museum Removes Photo Series Comparing ...   \n",
       "\n",
       "                                                   body  \n",
       "5824  When Derek Jeter spoke to fans at Yankee Stadi...  \n",
       "3170  In the premiere episode of the revived âTrad...  \n",
       "2074  Video taken from a weekend flight shows a woma...  \n",
       "42    In the year since Donald Trumpâs election, A...  \n",
       "3089  The final âJurassic World: Fallen Kingdomâ...  \n",
       "2132  Itâs a sin to bear false witness, but that d...  \n",
       "5350  Scientists have long noticed a strange correla...  \n",
       "6074  Snapchat has filed for an initial public offer...  \n",
       "6164  This isnât your grandpaâs Polaroid. The fa...  \n",
       "54    A series of photographs by Chinese artist Yu H...  "
      ]
     },
     "execution_count": 1,
     "metadata": {},
     "output_type": "execute_result"
    }
   ],
   "source": [
    "import pandas as pd\n",
    "import numpy as np\n",
    "from sklearn import preprocessing\n",
    "from sklearn.feature_extraction.text import TfidfVectorizer\n",
    "from sklearn.model_selection import train_test_split\n",
    "from sklearn.metrics import accuracy_score, classification_report\n",
    "from imblearn.over_sampling import SMOTE\n",
    "from tensorflow.keras.models import Sequential\n",
    "from tensorflow.keras.layers import SimpleRNN, Dense, Dropout, Flatten, Dense\n",
    "from tensorflow.keras.utils import to_categorical\n",
    "from kerastuner.tuners import RandomSearch\n",
    "from kerastuner.engine.hyperparameters import HyperParameters\n",
    "from tensorflow.keras.callbacks import EarlyStopping, History\n",
    "from nltk.corpus import stopwords\n",
    "import string\n",
    "\n",
    "# Load the data\n",
    "data = pd.read_csv('news-article-categories.csv', encoding='latin-1')\n",
    "data.sample(10)"
   ]
  },
  {
   "cell_type": "code",
   "execution_count": 2,
   "id": "6695348b",
   "metadata": {},
   "outputs": [
    {
     "data": {
      "text/plain": [
       "array(['ARTS & CULTURE', 'BUSINESS', 'COMEDY', 'CRIME', 'EDUCATION',\n",
       "       'ENTERTAINMENT', 'ENVIRONMENT', 'MEDIA', 'POLITICS', 'RELIGION',\n",
       "       'SCIENCE', 'SPORTS', 'TECH', 'WOMEN'], dtype=object)"
      ]
     },
     "execution_count": 2,
     "metadata": {},
     "output_type": "execute_result"
    }
   ],
   "source": [
    "data['category'].unique()"
   ]
  },
  {
   "cell_type": "code",
   "execution_count": 3,
   "id": "adcf9a7f",
   "metadata": {},
   "outputs": [
    {
     "data": {
      "text/plain": [
       "array([ 0,  1,  2,  3,  4,  5,  6,  7,  8,  9, 10, 11, 12, 13])"
      ]
     },
     "execution_count": 3,
     "metadata": {},
     "output_type": "execute_result"
    }
   ],
   "source": [
    "# Encode the categories\n",
    "label_encoder = preprocessing.LabelEncoder()\n",
    "data['category'] = label_encoder.fit_transform(data['category'])\n",
    "data['category'].unique()"
   ]
  },
  {
   "cell_type": "code",
   "execution_count": 4,
   "id": "2d4851a3",
   "metadata": {},
   "outputs": [],
   "source": [
    "# Define a function to process text\n",
    "def text_process(text):\n",
    "    if isinstance(text, float) and np.isnan(text):\n",
    "        return \"\"\n",
    "    text = text.translate(str.maketrans('', '', string.punctuation))\n",
    "    text = [word for word in text.split() if word.lower() not in stopwords.words('english')]\n",
    "    return \" \".join(text)\n",
    "\n",
    "# Apply text processing to title and body\n",
    "data['title'] = data['title'].apply(text_process)\n",
    "data['body'] = data['body'].apply(text_process)\n",
    "\n",
    "# Combine title and body into a single feature\n",
    "data['combined_text'] = data['title'] + ' ' + data['body']"
   ]
  },
  {
   "cell_type": "code",
   "execution_count": 5,
   "id": "5e13d867",
   "metadata": {},
   "outputs": [],
   "source": [
    "# Convert text to vectors using TF-IDF\n",
    "tfidf_vectorizer = TfidfVectorizer()\n",
    "X_tfidf = tfidf_vectorizer.fit_transform(data['combined_text'])\n",
    "\n",
    "# Scale features using MinMaxScaler\n",
    "minmax_scaler = preprocessing.MinMaxScaler()\n",
    "X_scaled = minmax_scaler.fit_transform(X_tfidf.toarray())\n",
    "\n",
    "# Combine scaled features with labels\n",
    "X_combined = np.column_stack((X_scaled, data['category']))"
   ]
  },
  {
   "cell_type": "code",
   "execution_count": 6,
   "id": "30650be9",
   "metadata": {},
   "outputs": [],
   "source": [
    "# Apply SMOTE to balance the classes\n",
    "smote = SMOTE(random_state=42)\n",
    "X_resampled, y_resampled = smote.fit_resample(X_combined, data['category'])\n",
    "\n",
    "# Split the data into training and testing sets\n",
    "X_train, X_test, y_train, y_test = train_test_split(\n",
    "    X_resampled[:, :-1],  # Features\n",
    "    X_resampled[:, -1],   # Labels\n",
    "    test_size=0.2,\n",
    "    random_state=42\n",
    ")\n",
    "\n",
    "# Convert labels to categorical one-hot encoding\n",
    "num_classes = len(np.unique(y_train))\n",
    "y_train_one_hot = to_categorical(y_train, num_classes)\n",
    "y_test_one_hot = to_categorical(y_test, num_classes)\n",
    "\n",
    "# Reshape input data for RNN\n",
    "X_train_rnn = X_train.reshape((X_train.shape[0], 1, X_train.shape[1]))\n",
    "X_test_rnn = X_test.reshape((X_test.shape[0], 1, X_test.shape[1]))"
   ]
  },
  {
   "cell_type": "code",
   "execution_count": 7,
   "id": "9f5ee356",
   "metadata": {},
   "outputs": [],
   "source": [
    "import tensorflow as tf  # Add this line to import TensorFlow\n",
    "\n",
    "# Define a custom callback to capture training history\n",
    "class TrainingHistoryCallback(tf.keras.callbacks.Callback):\n",
    "    def on_train_begin(self, logs=None):\n",
    "        self.history = {'loss': [], 'accuracy': [], 'val_loss': [], 'val_accuracy': []}\n",
    "\n",
    "    def on_epoch_end(self, epoch, logs=None):\n",
    "        for key, value in logs.items():\n",
    "            self.history[key].append(value)"
   ]
  },
  {
   "cell_type": "code",
   "execution_count": 8,
   "id": "22b04fa5",
   "metadata": {
    "scrolled": false
   },
   "outputs": [
    {
     "name": "stdout",
     "output_type": "stream",
     "text": [
      "Reloading Tuner from my_dirX\\rnn_tuning\\tuner0.json\n",
      "WARNING:tensorflow:From c:\\Users\\dadiw\\AppData\\Local\\Programs\\Python\\Python311\\Lib\\site-packages\\keras\\src\\backend.py:277: The name tf.reset_default_graph is deprecated. Please use tf.compat.v1.reset_default_graph instead.\n",
      "\n",
      "WARNING:tensorflow:From c:\\Users\\dadiw\\AppData\\Local\\Programs\\Python\\Python311\\Lib\\site-packages\\keras\\src\\optimizers\\__init__.py:309: The name tf.train.Optimizer is deprecated. Please use tf.compat.v1.train.Optimizer instead.\n",
      "\n",
      "88/88 [==============================] - 2s 10ms/step\n",
      "Best Hyperparameters: {'units1': 128, 'activation1': 'relu', 'dropout1': 0.30000000000000004, 'num_rnn_layers': 3, 'units_rnn_0': 96, 'activation_rnn_0': 'relu', 'dropout_rnn_0': 0.30000000000000004, 'num_dense_layers': 1, 'units_dense_0': 48, 'activation_dense_0': 'relu', 'dropout_dense_0': 0.2, 'units_dense_1': 32, 'activation_dense_1': 'tanh', 'dropout_dense_1': 0.30000000000000004, 'units_dense_2': 48, 'activation_dense_2': 'tanh', 'dropout_dense_2': 0.2, 'units_rnn_1': 32, 'activation_rnn_1': 'tanh', 'dropout_rnn_1': 0.30000000000000004, 'units_rnn_2': 32, 'activation_rnn_2': 'relu', 'dropout_rnn_2': 0.2}\n",
      "Best Accuracy: 0.9493941553813258\n",
      "Classification Report:\n",
      "               precision    recall  f1-score   support\n",
      "\n",
      "         0.0       0.99      0.80      0.88       205\n",
      "         1.0       0.92      0.92      0.92       204\n",
      "         2.0       0.95      0.96      0.95       212\n",
      "         3.0       0.97      0.99      0.98       196\n",
      "         4.0       0.91      1.00      0.95       207\n",
      "         5.0       0.92      0.98      0.95       204\n",
      "         6.0       0.98      0.98      0.98       202\n",
      "         7.0       0.96      0.94      0.95       200\n",
      "         8.0       0.96      0.96      0.96       232\n",
      "         9.0       0.96      0.99      0.97       206\n",
      "        10.0       0.96      0.96      0.96       170\n",
      "        11.0       0.95      0.99      0.97       184\n",
      "        12.0       0.93      0.96      0.94       176\n",
      "        13.0       0.95      0.89      0.92       208\n",
      "\n",
      "    accuracy                           0.95      2806\n",
      "   macro avg       0.95      0.95      0.95      2806\n",
      "weighted avg       0.95      0.95      0.95      2806\n",
      "\n"
     ]
    }
   ],
   "source": [
    "# Define the model-building function for Keras Tuner\n",
    "def build_model(hp):\n",
    "    model = Sequential()\n",
    "    \n",
    "    # Add the first SimpleRNN layer\n",
    "    model.add(SimpleRNN(units=hp.Int('units1', min_value=32, max_value=128, step=32),\n",
    "                        input_shape=(1, X_train.shape[1]),\n",
    "                        activation=hp.Choice('activation1', values=['relu', 'tanh','sigmoid']),\n",
    "                        return_sequences=True))\n",
    "    model.add(Dropout(hp.Float('dropout1', min_value=0.2, max_value=0.5, step=0.1)))\n",
    "    \n",
    "    # Add more SimpleRNN layers (you can customize the number and configuration)\n",
    "    for i in range(hp.Int('num_rnn_layers', min_value=1, max_value=3)):\n",
    "        model.add(SimpleRNN(units=hp.Int(f'units_rnn_{i}', min_value=32, max_value=128, step=32),\n",
    "                            activation=hp.Choice(f'activation_rnn_{i}', values=['relu', 'tanh','sigmoid']),\n",
    "                            return_sequences=True))\n",
    "        model.add(Dropout(hp.Float(f'dropout_rnn_{i}', min_value=0.2, max_value=0.5, step=0.1)))\n",
    "    \n",
    "    # Flatten the output before Dense layers\n",
    "    model.add(Flatten())\n",
    "    \n",
    "    # Add Dense layers\n",
    "    for i in range(hp.Int('num_dense_layers', min_value=1, max_value=3)):\n",
    "        model.add(Dense(hp.Int(f'units_dense_{i}', min_value=16, max_value=64, step=16),\n",
    "                        activation=hp.Choice(f'activation_dense_{i}', values=['relu', 'tanh','sigmoid'])))\n",
    "        model.add(Dropout(hp.Float(f'dropout_dense_{i}', min_value=0.2, max_value=0.5, step=0.1)))\n",
    "    \n",
    "    # Output layer\n",
    "    model.add(Dense(num_classes, activation='softmax'))\n",
    "\n",
    "    # Compile the model\n",
    "    model.compile(optimizer='adam', loss='categorical_crossentropy', metrics=['accuracy'])\n",
    "\n",
    "    return model\n",
    "\n",
    "# Define early stopping callback\n",
    "early_stopping = EarlyStopping(monitor='val_loss', patience=3, restore_best_weights=True)\n",
    "\n",
    "# Define the tuner\n",
    "tuner = RandomSearch(\n",
    "    build_model,\n",
    "    objective='val_accuracy',\n",
    "    max_trials=10,  # You can increase this value for a more comprehensive search\n",
    "    directory='my_dirX',\n",
    "    project_name='rnn_tuning'\n",
    ")\n",
    "\n",
    "# Create an instance of the custom callback\n",
    "history_callback = TrainingHistoryCallback()\n",
    "\n",
    "# Search for the best hyperparameters\n",
    "tuner.search(X_train_rnn, y_train_one_hot, epochs=50, validation_split=0.1, batch_size=32, callbacks=[early_stopping,history_callback])\n",
    "\n",
    "# Get the best model\n",
    "best_model = tuner.get_best_models(1)[0]\n",
    "\n",
    "# Evaluate the best model on the test set\n",
    "y_pred_one_hot = best_model.predict(X_test_rnn)\n",
    "y_pred = np.argmax(y_pred_one_hot, axis=1)\n",
    "\n",
    "# Evaluate the model\n",
    "print(\"Best Hyperparameters:\", tuner.oracle.get_best_trials()[0].hyperparameters.values)\n",
    "print(\"Best Accuracy:\", accuracy_score(y_test, y_pred))\n",
    "print(\"Classification Report:\\n\", classification_report(y_test, y_pred))"
   ]
  },
  {
   "cell_type": "code",
   "execution_count": 9,
   "id": "522c4872",
   "metadata": {},
   "outputs": [],
   "source": [
    "# import numpy as np\n",
    "# import matplotlib.pyplot as plt\n",
    "# from tensorflow.keras.models import Sequential\n",
    "# from tensorflow.keras.layers import SimpleRNN, Dropout, Flatten, Dense\n",
    "# from tensorflow.keras.callbacks import EarlyStopping\n",
    "# from sklearn.metrics import accuracy_score, classification_report\n",
    "\n",
    "# # Specify hyperparameters\n",
    "# hyperparameters = {\n",
    "#     'units1': 128,\n",
    "#     'activation1': 'relu',\n",
    "#     'dropout1': 0.3,\n",
    "#     'num_rnn_layers': 3,\n",
    "#     'units_rnn_0': 96,\n",
    "#     'activation_rnn_0': 'relu',\n",
    "#     'dropout_rnn_0': 0.3,\n",
    "#     'units_rnn_1': 32,\n",
    "#     'activation_rnn_1': 'tanh',\n",
    "#     'dropout_rnn_1': 0.3,\n",
    "#     'units_rnn_2': 32,\n",
    "#     'activation_rnn_2': 'relu',\n",
    "#     'dropout_rnn_2': 0.2,\n",
    "#     'num_dense_layers': 1,\n",
    "#     'units_dense_0': 48,\n",
    "#     'activation_dense_0': 'relu',\n",
    "#     'dropout_dense_0': 0.2,\n",
    "#     'units_dense_1': 32,\n",
    "#     'activation_dense_1': 'tanh',\n",
    "#     'dropout_dense_1': 0.3,\n",
    "#     'units_dense_2': 48,\n",
    "#     'activation_dense_2': 'tanh',\n",
    "#     'dropout_dense_2': 0.2\n",
    "# }\n",
    "\n",
    "# # Build the model\n",
    "# model = Sequential()\n",
    "\n",
    "# # Add the first SimpleRNN layer\n",
    "# model.add(SimpleRNN(units=hyperparameters['units1'],\n",
    "#                     input_shape=(1, X_train.shape[1]),\n",
    "#                     activation=hyperparameters['activation1'],\n",
    "#                     return_sequences=True))\n",
    "# model.add(Dropout(hyperparameters['dropout1']))\n",
    "\n",
    "# # Add more SimpleRNN layers\n",
    "# for i in range(hyperparameters['num_rnn_layers']):\n",
    "#     model.add(SimpleRNN(units=hyperparameters[f'units_rnn_{i}'],\n",
    "#                         activation=hyperparameters[f'activation_rnn_{i}'],\n",
    "#                         return_sequences=True))\n",
    "#     model.add(Dropout(hyperparameters[f'dropout_rnn_{i}']))\n",
    "\n",
    "# # Flatten the output before Dense layers\n",
    "# model.add(Flatten())\n",
    "\n",
    "# # Add Dense layers\n",
    "# for i in range(hyperparameters['num_dense_layers']):\n",
    "#     model.add(Dense(units=hyperparameters[f'units_dense_{i}'],\n",
    "#                     activation=hyperparameters[f'activation_dense_{i}']))\n",
    "#     model.add(Dropout(hyperparameters[f'dropout_dense_{i}']))\n",
    "\n",
    "# # Output layer\n",
    "# model.add(Dense(num_classes, activation='softmax'))\n",
    "\n",
    "# # Compile the model\n",
    "# model.compile(optimizer='adam', loss='categorical_crossentropy', metrics=['accuracy'])\n",
    "\n",
    "# # Define early stopping callback\n",
    "# early_stopping = EarlyStopping(monitor='val_loss', patience=3, restore_best_weights=True)\n",
    "\n",
    "# # Train the model and track accuracy history\n",
    "# history = model.fit(X_train_rnn, y_train_one_hot, epochs=50, validation_split=0.1, batch_size=32, callbacks=[early_stopping])\n",
    "\n",
    "# # Get training and validation accuracy from the history\n",
    "# train_acc = history.history['accuracy']\n",
    "# val_acc = history.history['val_accuracy']\n",
    "\n",
    "# # Plot training accuracy\n",
    "# plt.plot(range(1, len(train_acc) + 1), train_acc, label='Training Accuracy')\n",
    "# plt.plot(range(1, len(val_acc) + 1), val_acc, label='Validation Accuracy')\n",
    "# plt.title('Training and Validation Accuracy')\n",
    "# plt.xlabel('Epochs')\n",
    "# plt.ylabel('Accuracy')\n",
    "# plt.legend()\n",
    "# plt.show()\n",
    "\n",
    "# # Evaluate the model on the test set\n",
    "# y_pred_one_hot = model.predict(X_test_rnn)\n",
    "# y_pred = np.argmax(y_pred_one_hot, axis=1)\n",
    "\n",
    "# # Evaluate the model\n",
    "# print(\"Best Hyperparameters:\", hyperparameters)\n",
    "# print(\"Accuracy:\", accuracy_score(y_test, y_pred))\n",
    "# print(\"Classification Report:\\n\", classification_report(y_test, y_pred))"
   ]
  },
  {
   "cell_type": "code",
   "execution_count": 11,
   "id": "4d39d75f",
   "metadata": {
    "scrolled": false
   },
   "outputs": [
    {
     "data": {
      "image/png": "[encoded data removed]",
      "text/plain": [
       "<Figure size 800x600 with 1 Axes>"
      ]
     },
     "metadata": {},
     "output_type": "display_data"
    }
   ],
   "source": [
    "from sklearn.metrics import accuracy_score, classification_report, confusion_matrix\n",
    "import matplotlib.pyplot as plt\n",
    "from sklearn.metrics import ConfusionMatrixDisplay\n",
    "\n",
    "# ... (previous code)\n",
    "\n",
    "# Define the class labels\n",
    "class_labels = ['ARTS & CULTURE', 'BUSINESS', 'COMEDY', 'CRIME', 'EDUCATION', 'ENTERTAINMENT', \n",
    "                'ENVIRONMENT', 'MEDIA', 'POLITICS', 'RELIGION', 'SCIENCE', 'SPORTS', 'TECH', 'WOMEN']\n",
    "\n",
    "# Plot Confusion Matrix using Seaborn with string labels\n",
    "conf_matrix = confusion_matrix(y_test, y_pred)\n",
    "\n",
    "# Create ConfusionMatrixDisplay\n",
    "disp = ConfusionMatrixDisplay(confusion_matrix=conf_matrix, display_labels=class_labels)\n",
    "\n",
    "# Plot the confusion matrix with predicted labels on the horizontal axis\n",
    "fig, ax = plt.subplots(figsize=(8, 6))\n",
    "disp.plot(ax=ax, cmap=\"Blues\", xticks_rotation=\"horizontal\", colorbar=False)\n",
    "ax.set_xticks(np.arange(len(class_labels)))\n",
    "ax.set_xlabel(\"Predicted Labels\")\n",
    "ax.set_ylabel(\"True Labels\")\n",
    "plt.title('Confusion Matrix')\n",
    "plt.show()\n"
   ]
  },
  {
   "cell_type": "code",
   "execution_count": 12,
   "id": "26ed8422",
   "metadata": {},
   "outputs": [
    {
     "data": {
      "text/plain": [
       "(14028, 110799)"
      ]
     },
     "execution_count": 12,
     "metadata": {},
     "output_type": "execute_result"
    }
   ],
   "source": [
    "X_resampled.shape"
   ]
  },
  {
   "cell_type": "code",
   "execution_count": 13,
   "id": "41c4526e",
   "metadata": {},
   "outputs": [
    {
     "data": {
      "text/plain": [
       "(14028,)"
      ]
     },
     "execution_count": 13,
     "metadata": {},
     "output_type": "execute_result"
    }
   ],
   "source": [
    "y_resampled.shape"
   ]
  },
  {
   "cell_type": "code",
   "execution_count": 14,
   "id": "865f3751",
   "metadata": {},
   "outputs": [
    {
     "data": {
      "text/plain": [
       "2805.6000000000004"
      ]
     },
     "execution_count": 14,
     "metadata": {},
     "output_type": "execute_result"
    }
   ],
   "source": [
    "14028*0.20"
   ]
  },
  {
   "cell_type": "code",
   "execution_count": 15,
   "id": "8dbd3133",
   "metadata": {},
   "outputs": [
    {
     "data": {
      "text/plain": [
       "11222.400000000001"
      ]
     },
     "execution_count": 15,
     "metadata": {},
     "output_type": "execute_result"
    }
   ],
   "source": [
    "14028*0.80"
   ]
  },
  {
   "cell_type": "code",
   "execution_count": 16,
   "id": "31104835",
   "metadata": {},
   "outputs": [
    {
     "name": "stderr",
     "output_type": "stream",
     "text": [
      "c:\\Users\\dadiw\\AppData\\Local\\Programs\\Python\\Python311\\Lib\\site-packages\\keras\\src\\engine\\training.py:3103: UserWarning: You are saving your model as an HDF5 file via `model.save()`. This file format is considered legacy. We recommend using instead the native Keras format, e.g. `model.save('my_model.keras')`.\n",
      "  saving_api.save_model(\n"
     ]
    }
   ],
   "source": [
    "import joblib\n",
    "\n",
    "# Save TF-IDF Vectorizer\n",
    "joblib.dump(tfidf_vectorizer, 'tfidf_vectorizer.joblib')\n",
    "\n",
    "# Save MinMaxScaler\n",
    "joblib.dump(minmax_scaler, 'minmax_scaler.joblib')\n",
    "\n",
    "# Save the best model\n",
    "best_model.save('best_model.h5')\n"
   ]
  },
  {
   "cell_type": "code",
   "execution_count": 17,
   "id": "84047be0",
   "metadata": {},
   "outputs": [
    {
     "name": "stdout",
     "output_type": "stream",
     "text": [
      "1/1 [==============================] - 1s 1s/step\n",
      "Predicted Labels: [0]\n"
     ]
    }
   ],
   "source": [
    "import pandas as pd\n",
    "import numpy as np\n",
    "import joblib\n",
    "from tensorflow.keras.models import load_model\n",
    "from sklearn import preprocessing\n",
    "from sklearn.feature_extraction.text import TfidfVectorizer\n",
    "from nltk.corpus import stopwords\n",
    "import string\n",
    "\n",
    "# Function to process text\n",
    "def text_process(text):\n",
    "    if isinstance(text, float) and np.isnan(text):\n",
    "        return \"\"\n",
    "    text = text.translate(str.maketrans('', '', string.punctuation))\n",
    "    text = [word for word in text.split() if word.lower() not in stopwords.words('english')]\n",
    "    return \" \".join(text)\n",
    "\n",
    "# Load TF-IDF Vectorizer and MinMaxScaler\n",
    "tfidf_vectorizer = joblib.load('tfidf_vectorizer.joblib')\n",
    "minmax_scaler = joblib.load('minmax_scaler.joblib')\n",
    "\n",
    "# Load the Best Model\n",
    "best_model = load_model('best_model.h5')\n",
    "\n",
    "# Sample new data (replace this with your new data)\n",
    "new_data = pd.DataFrame({\n",
    "    'title': ['Actor Jeff Hiller Talks â€œBright Colors And Bold Patternsâ€ and More (AUDIO)'],\n",
    "    'body' : ['This week I talked with actor Jeff Hiller about the hit Off Broadway play Bright Colors And Bold Patterns that heâ€™ll be joining on January 17th with a new opening night scheduled for February 4th. Hiller (Nightcap, 30 Rock & Broadwayâ€™s Bloody Bloody Andrew Jackson) will step into the starring role of this devastatingly funny hit play directed by Michael Urie (Torch Song, Buyer & Cellar, Ugly Betty) and written by Drew Droege the playâ€™s original star. Hiller will continue the playâ€™s triumphant Off Broadway run through February 25th at the SoHo Playhouse in NYC. Bright Colors And Bold Patterns is about Josh and Brennan who are about to get married in Palm Springs on a lovely Saturday afternoon. However, the night before becomes a drunken, drug-fueled riot because their friend Gerry arrives furious that their invitation says: â€œPlease refrain from wearing bright colors or bold patterns.â€ The play is produced by Zach Laks in association with Riki Kane Larimer and features set design by Dara Wishingrad. Tom DeTrinis serves as associate producer. Bright Colors And Bold Patterns was originally presented at VS Theatre in Los Angeles and directed by Molly Prather. I talked to Jeff about how thrilled he is to perform Drew Droegeâ€™s hysterical one man show and his spin on our LGBTQ issues. LISTEN: Â  When asked how he sees our LGBTQ community moving forward in this Trump administration Hiller stated: Jeff Hiller is a regular performer at the UCB Theatre in both New York City and Los Angeles. Jeff has also written and starred in a pilot for Universal Cable Productions as well as acting in pilots for NBC, Fox, and CBS. He will step in the role of Gerry in the hit Off Broadway playÂ Bright Colors And Bold PatternsÂ starting on January 17th at the SoHo Playhouse in NYC. For Info & Tix: brightcolorsandboldpatterns.com Listen to more LGBT Leaders, Allies & Celebrity Podcasts: OUTTAKE VOICESâ„¢ Download Podcasts on iTunes']\n",
    "})\n",
    "\n",
    "# Apply the same text processing as during training\n",
    "new_data['title'] = new_data['title'].apply(text_process)\n",
    "new_data['body'] = new_data['body'].apply(text_process)\n",
    "new_data['combined_text'] = new_data['title'] + ' ' + new_data['body']\n",
    "\n",
    "# Use the loaded TF-IDF Vectorizer and MinMaxScaler\n",
    "X_new_tfidf = tfidf_vectorizer.transform(new_data['body'])\n",
    "X_new_scaled = minmax_scaler.transform(X_new_tfidf.toarray())\n",
    "\n",
    "# Reshape input data for RNN\n",
    "X_new_rnn = X_new_scaled.reshape((X_new_scaled.shape[0], 1, X_new_scaled.shape[1]))\n",
    "\n",
    "# Make predictions using the loaded model\n",
    "y_pred_one_hot = best_model.predict(X_new_rnn)\n",
    "y_pred = np.argmax(y_pred_one_hot, axis=1)\n",
    "\n",
    "# Now, y_pred contains the predicted labels for your new data\n",
    "print(\"Predicted Labels:\", y_pred)\n"
   ]
  }
 ],
 "metadata": {
  "kernelspec": {
   "display_name": "Python 3 (ipykernel)",
   "language": "python",
   "name": "python3"
  },
  "language_info": {
   "codemirror_mode": {
    "name": "ipython",
    "version": 3
   },
   "file_extension": ".py",
   "mimetype": "text/x-python",
   "name": "python",
   "nbconvert_exporter": "python",
   "pygments_lexer": "ipython3",
   "version": "3.11.2"
  }
 },
 "nbformat": 4,
 "nbformat_minor": 5
}
